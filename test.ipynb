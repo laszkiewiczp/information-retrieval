{
 "cells": [
  {
   "cell_type": "code",
   "execution_count": 7,
   "id": "d811eca4-cd54-48eb-a103-e258f19faf46",
   "metadata": {},
   "outputs": [],
   "source": [
    "from metrics import Evaluate\n",
    "from models import VectorSpaceModel\n",
    "from os.path import exists\n",
    "import data_loading as d_load\n",
    "import numpy as np\n",
    "import pickle"
   ]
  },
  {
   "cell_type": "code",
   "execution_count": 2,
   "id": "490ba95a-7305-4c6e-86d0-627be3124983",
   "metadata": {},
   "outputs": [],
   "source": [
    "if (exists('train_data.obj') and \n",
    "    exists('test_data.obj') and \n",
    "    exists('trials_data.obj')):\n",
    "    \n",
    "    #load the objects from pickle\n",
    "    file_data = open('train_data.obj', 'rb') \n",
    "    train = pickle.load(file_data)\n",
    "    file_data.close()\n",
    "    \n",
    "    file_data = open('test_data.obj', 'rb') \n",
    "    test = pickle.load(file_data)\n",
    "    file_data.close()\n",
    "    \n",
    "    file_data = open('trials_data.obj', 'rb') \n",
    "    trials = pickle.load(file_data)\n",
    "    file_data.close()\n",
    "\n",
    "else:\n",
    "    \n",
    "    train, test = d_load.load_and_split_queries()\n",
    "    trials = d_load.load_evaluated_trials()\n",
    "\n",
    "    #Save the data objects to files\n",
    "    file_data = open('train_data.obj', 'wb') \n",
    "    pickle.dump(train, file_data)\n",
    "    file_data.close()\n",
    "\n",
    "    file_data = open('test_data.obj', 'wb') \n",
    "    pickle.dump(test, file_data)\n",
    "    file_data.close()\n",
    "\n",
    "    file_data = open('trials_data.obj', 'wb') \n",
    "    pickle.dump(trials, file_data)\n",
    "    file_data.close()"
   ]
  },
  {
   "cell_type": "code",
   "execution_count": 11,
   "id": "8fd9aea4-1b1e-4974-8427-8bd1e376f0ba",
   "metadata": {},
   "outputs": [
    {
     "name": "stdout",
     "output_type": "stream",
     "text": [
      "[0.06170213 0.18950931 0.00896813 0.08778713 0.03085106]\n"
     ]
    }
   ],
   "source": [
    "vector_model = VectorSpaceModel(trials)\n",
    "avg_metrics = np.array([0, 0, 0, 0, 0], dtype='float64')\n",
    "\n",
    "for query in train:\n",
    "    search_results = vector_model.get_top_query_results(query.query_content)\n",
    "    eval = Evaluate(query, search_results)\n",
    "    #eval.evalPR()\n",
    "    \n",
    "    metrics = np.array([eval.p10, eval.recall, eval.ap, eval.ndcg5, eval.mrr])\n",
    "    avg_metrics += metrics\n",
    "    \n",
    "avg_metrics /= len(train)\n",
    "\n",
    "print(avg_metrics)"
   ]
  },
  {
   "cell_type": "code",
   "execution_count": null,
   "id": "092b7200-944e-4d3c-9963-e526c82669ce",
   "metadata": {},
   "outputs": [],
   "source": [
    "ev.evalPR()"
   ]
  },
  {
   "cell_type": "code",
   "execution_count": null,
   "id": "b55a4c69-a1bc-4b65-972c-639f3f976977",
   "metadata": {},
   "outputs": [],
   "source": [
    "#Stratified sampling\n",
    "#Pełna ewaluacja\n",
    "#Drugi model"
   ]
  }
 ],
 "metadata": {
  "kernelspec": {
   "display_name": "Python (myenv)",
   "language": "python",
   "name": "myenv"
  },
  "language_info": {
   "codemirror_mode": {
    "name": "ipython",
    "version": 3
   },
   "file_extension": ".py",
   "mimetype": "text/x-python",
   "name": "python",
   "nbconvert_exporter": "python",
   "pygments_lexer": "ipython3",
   "version": "3.9.13"
  }
 },
 "nbformat": 4,
 "nbformat_minor": 5
}
